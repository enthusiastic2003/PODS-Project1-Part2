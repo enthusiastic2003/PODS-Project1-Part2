{
 "cells": [
  {
   "cell_type": "code",
   "execution_count": 1,
   "metadata": {},
   "outputs": [],
   "source": [
    "import threading\n",
    "import requests\n",
    "import time\n",
    "\n",
    "BASE_URL = \"http://localhost:8081\"  # Replace with your actual API endpoint\n",
    "\n",
    "import concurrent_test_cases.utils as utils\n",
    "\n",
    "import concurrent_test_cases.wallet as wallet\n",
    " \n",
    "user_id = 1001\n",
    "product_id = 101\n",
    "initial_stock = 10\n",
    "product_price = 55000\n",
    "thread_count = 15  # More than available stock to test rollback\n"
   ]
  },
  {
   "cell_type": "code",
   "execution_count": 2,
   "metadata": {},
   "outputs": [],
   "source": [
    "def place_order():\n",
    "    order_data = {\n",
    "        \"user_id\": user_id,\n",
    "        \"items\": [{\"product_id\": product_id, \"quantity\": 1}]\n",
    "    }\n",
    "\n",
    "    response = requests.post(f\"{BASE_URL}/orders\", json=order_data)\n",
    "\n",
    "    print(f\"Response: {response.status_code}, {response.text}\")\n",
    "    return response.status_code"
   ]
  },
  {
   "cell_type": "code",
   "execution_count": 7,
   "metadata": {},
   "outputs": [],
   "source": [
    "USR_URL = \"http://localhost:8080/users\""
   ]
  },
  {
   "cell_type": "code",
   "execution_count": 8,
   "metadata": {},
   "outputs": [],
   "source": [
    "def add_user(id,  name, email):\n",
    "    user_data = {\n",
    "        \"id\": id,\n",
    "        \"name\": name,\n",
    "        \"email\": email\n",
    "    }\n",
    "\n",
    "    response = requests.post(f\"{USR_URL}\", json=user_data)\n",
    "\n",
    "    print(f\"Response: {response.status_code}, {response.text}\")\n",
    "    return response.status_code\n",
    "\n"
   ]
  },
  {
   "cell_type": "code",
   "execution_count": null,
   "metadata": {},
   "outputs": [
    {
     "name": "stdout",
     "output_type": "stream",
     "text": [
      "Response: 201, {\"id\":1001,\"name\":\"John Doe\",\"email\":\"jhn@exp.com\",\"discount_availed\":false}\n"
     ]
    },
    {
     "data": {
      "text/plain": [
       "201"
      ]
     },
     "execution_count": 9,
     "metadata": {},
     "output_type": "execute_result"
    }
   ],
   "source": [
    "add_user(user_id, \"John Doe\", \"jhn@exp.com\")"
   ]
  },
  {
   "cell_type": "code",
   "execution_count": 11,
   "metadata": {},
   "outputs": [
    {
     "data": {
      "text/plain": [
       "{'id': 101,\n",
       " 'name': 'Laptop Pro 1',\n",
       " 'description': 'Powerful laptop',\n",
       " 'price': 55000,\n",
       " 'stock_quantity': 10}"
      ]
     },
     "execution_count": 11,
     "metadata": {},
     "output_type": "execute_result"
    }
   ],
   "source": [
    "requests.get(f\"{BASE_URL}/products/{product_id}\").json()"
   ]
  },
  {
   "cell_type": "code",
   "execution_count": null,
   "metadata": {},
   "outputs": [],
   "source": []
  }
 ],
 "metadata": {
  "kernelspec": {
   "display_name": "NLP2",
   "language": "python",
   "name": "python3"
  },
  "language_info": {
   "codemirror_mode": {
    "name": "ipython",
    "version": 3
   },
   "file_extension": ".py",
   "mimetype": "text/x-python",
   "name": "python",
   "nbconvert_exporter": "python",
   "pygments_lexer": "ipython3",
   "version": "3.11.2"
  }
 },
 "nbformat": 4,
 "nbformat_minor": 2
}
