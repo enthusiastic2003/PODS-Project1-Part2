{
 "cells": [
  {
   "cell_type": "code",
   "execution_count": 12,
   "metadata": {},
   "outputs": [
    {
     "name": "stdout",
     "output_type": "stream",
     "text": [
      "=> create_user(John Doe, johndoe@mail.com)\n",
      "<= create_user() response: {'id': 101, 'name': 'John Doe', 'email': 'johndoe@mail.com', 'discount_availed': False}\n",
      "create_user() Passed\n",
      "\n",
      "=> get_wallet(101)\n",
      "<= get_wallet() response: {'user_id': 101, 'balance': 0}\n",
      "get_wallet() Passed\n",
      "\n",
      "=> update_wallet(101, credit, 100)\n",
      "<= update_wallet() response: {'user_id': 101, 'balance': 100}\n",
      "update_wallet() Passed.\n"
     ]
    }
   ],
   "source": [
    "import requests\n",
    "\n",
    "userServiceURL = \"http://localhost:8080\"\n",
    "marketplaceServiceURL = \"http://localhost:8081\"\n",
    "walletServiceURL = \"http://localhost:8082\"\n",
    "\n",
    "def main():\n",
    "\n",
    "    delete_users()\n",
    "    name = \"John Doe\"\n",
    "    email = \"johndoe@mail.com\"\n",
    "    userId = 101\n",
    "    print(f\"=> create_user({name}, {email})\")\n",
    "    response_create_user = create_user(userId,name, email)\n",
    "    print(f\"<= create_user() response: {response_create_user.json()}\")\n",
    "\n",
    "    if (test_create_user(name, email, response_create_user)):\n",
    "        print(\"create_user() Passed\\n\")\n",
    "    \n",
    "    new_user = response_create_user.json()\n",
    "    user_id = new_user['id']\n",
    "\n",
    "    print(f\"=> get_wallet({user_id})\")\n",
    "    create_wallet(user_id)\n",
    "    response_get_wallet = get_wallet(user_id)\n",
    "    print(f\"<= get_wallet() response: {response_get_wallet.json()}\")\n",
    "    \n",
    "    if (test_get_wallet(user_id, response_get_wallet)):\n",
    "        print(\"get_wallet() Passed\\n\")\n",
    "\n",
    "    wallet = response_get_wallet.json()\n",
    "    old_balance = wallet['balance']\n",
    "    action = \"credit\"\n",
    "    amount = 100\n",
    "    \n",
    "    print(f\"=> update_wallet({user_id}, {action}, {amount})\")\n",
    "    response_update_wallet = update_wallet(user_id, action, amount)\n",
    "    print(f\"<= update_wallet() response: {response_update_wallet.json()}\")\n",
    "\n",
    "    if (test_update_wallet(user_id, action, amount, old_balance, response_update_wallet)):\n",
    "        print(\"update_wallet() Passed.\")\n",
    "    \n",
    "def create_user(userid,name, email):\n",
    "    new_user = {\"id\":userid,\"name\": name, \"email\": email}\n",
    "    response = requests.post(userServiceURL + \"/users\", json=new_user)\n",
    "    return response\n",
    "\n",
    "def test_create_user(name, email, response):\n",
    "    new_user = response.json()\n",
    "\n",
    "    # checking if 'id' field exists in the response\n",
    "    if ('id' not in new_user):\n",
    "        print(\"create_user() Failed: 'id' field not present in response.\")\n",
    "        return False\n",
    "    # checking the type of 'id' as int\n",
    "    else:\n",
    "        if (not isinstance(new_user['id'], int)):\n",
    "            print(\"create_user() Failed: 'id' field not an integer value.\")\n",
    "            return False\n",
    "\n",
    "    # checking if 'name' field exists in the response\n",
    "    if ('name' not in new_user):\n",
    "        print(\"create_user() Failed: 'name' field not present in response.\")\n",
    "        return False\n",
    "\n",
    "\n",
    "    # checking if 'email' field exists in the response\n",
    "    if ('email' not in new_user):\n",
    "        print(\"create_user() Failed: 'email' field not present in response.\")\n",
    "        return False\n",
    "\n",
    "    # checking the number of field returned in the response\n",
    "    if (len(new_user) != 4):\n",
    "        print(\"create_user() Failed: Incorrect response format.\")\n",
    "        return False\n",
    "\n",
    "    # checking the status code\n",
    "    if (response.status_code != 201):\n",
    "        print(f\"create_user() Failed: HTTP 201 expected, got {response.status_code}\")\n",
    "        return False\n",
    "\n",
    "    return True\n",
    "\n",
    "def delete_users():\n",
    "    requests.delete(userServiceURL+f\"/users\") \n",
    "\n",
    "def create_wallet(user_id):\n",
    "    requests.put(walletServiceURL+f\"/wallets/{user_id}\", json={\"action\":\"credit\", \"amount\":0})\n",
    "\n",
    "def get_wallet(user_id):\n",
    "    response = requests.get(walletServiceURL + f\"/wallets/{user_id}\")\n",
    "    return response\n",
    "\n",
    "def test_get_wallet(user_id, response):\n",
    "    \n",
    "    user_res = requests.get(userServiceURL + f\"/users/{user_id}\")\n",
    "\n",
    "    # checking for the correct status code\n",
    "    if(user_res.status_code != 404 and response.status_code == 404):\n",
    "\t    return False\n",
    "\n",
    "    payload = response.json()\n",
    "\n",
    "    # checking if 'user_id' field exists in response\n",
    "    if ('user_id' not in payload):\n",
    "        print(\"get_wallet() Failed: 'user_id' field not present in response.\")\n",
    "        return False\n",
    "\n",
    "    # checking if 'user_id' field is int in response\n",
    "    if (not isinstance(payload['user_id'], int)):\n",
    "        print(\"update_wallet() Failed: 'user_id' field not an integer value.\")\n",
    "        return False\n",
    "\n",
    "    if ('balance' not in payload):\n",
    "        print(\"get_wallet() Failed: 'balance' field not present in response.\")\n",
    "        return False\n",
    "    \n",
    "    if (not isinstance(payload['balance'], int)):\n",
    "        print(\"get_wallet() Failed: 'balance' field not an integer value.\")\n",
    "        return False\n",
    "\n",
    "    if (len(payload) != 2):\n",
    "        print(\"get_wallet() Failed: Incorrect response format.\")\n",
    "        return False\n",
    "\n",
    "    if (response.status_code != 200):\n",
    "        print(f\"get_wallet() Failed: HTTP 200 expected, got {response.status_code}\")\n",
    "        return False\n",
    "\n",
    "    return True\n",
    "    \n",
    "def update_wallet(user_id, action, amount):\n",
    "    response = requests.put(walletServiceURL + f\"/wallets/{user_id}\", json={\"action\":action, \"amount\":amount})\n",
    "    return response\n",
    "\n",
    "def test_update_wallet(user_id, action, amount, old_balance, response):\n",
    "    # checking if negative balance is allowed or not\n",
    "    if (action == 'debit' and old_balance < amount and response.status_code != 400):\n",
    "        print(f\"get_wallet() Failed: insufficient balance, expected HTTP 400, got {response.status_code}.\")\n",
    "        return False\n",
    "\n",
    "    payload = response.json()\n",
    "\n",
    "    if ('user_id' not in payload):\n",
    "        print(\"update_wallet() Failed: 'user_id' field not present in response.\")\n",
    "        return False\n",
    "\n",
    "    if (not isinstance(payload['user_id'], int)):\n",
    "        print(\"update_wallet() Failed: 'user_id' field not an integer value.\")\n",
    "        return False\n",
    "        \n",
    "    if ('balance' not in payload):\n",
    "        print(\"get_wallet() Failed: 'balance' field not present in response.\")\n",
    "        return False\n",
    "    \n",
    "    if (not isinstance(payload['balance'], int)):\n",
    "        print(\"get_wallet() Failed: 'balance' field not an integer value.\")\n",
    "        return False\n",
    "\n",
    "    if (len(payload) != 2):\n",
    "        print(\"update_wallet() Failed: Incorrect response format.\")\n",
    "        return False\n",
    "        \n",
    "    if (action == 'credit' and payload['balance'] != old_balance + amount):\n",
    "        print(f\"get_wallet() Failed: 'balance' field incorrectly updated, expected {old_balance + amount}, got {payload['balance']}.\")\n",
    "        return False\n",
    "\n",
    "    if (action == 'debit' and payload['balance'] != old_balance - amount):\n",
    "        print(f\"get_wallet() Failed: 'balance' field incorrectly updated, expected {old_balance - amount}, got {payload['balance']}.\")\n",
    "        return False\n",
    "        \n",
    "    if (response.status_code != 200):\n",
    "        print(f\"update_wallet() Failed: HTTP 200 expected, got {response.status_code}\")\n",
    "        return False\n",
    "\n",
    "    return True\n",
    "\n",
    "if __name__ == \"__main__\":\n",
    "    main()"
   ]
  },
  {
   "cell_type": "code",
   "execution_count": 13,
   "metadata": {},
   "outputs": [
    {
     "name": "stdout",
     "output_type": "stream",
     "text": [
      "[INFO] Deleting existing users...\n",
      "[INFO] Creating a new user...\n",
      "[INFO] New user created with ID: 101\n",
      "[INFO] Adding money to wallet...\n",
      "[INFO] Fetching product details before ordering...\n",
      "[INFO] Wallet balance before order: 10000\n",
      "[INFO] Placing order...\n",
      "[INFO] Fetching product details after ordering...\n",
      "[INFO] Wallet balance after order: 8740\n",
      "[INFO] Product details after ordering:  {'id': 104, 'name': 'Wireless Mouse', 'description': '2.4 GHz wireless mouse', 'price': 700, 'stock_quantity': 18}\n",
      "[INFO] Got response: {'id': 104, 'name': 'Wireless Mouse', 'description': '2.4 GHz wireless mouse', 'price': 700, 'stock_quantity': 18}\n",
      "[SUCCESS] Test Passed ✅\n"
     ]
    }
   ],
   "source": [
    "import requests\n",
    "import sys\n",
    "import traceback\n",
    "\n",
    "userServiceURL = \"http://localhost:8080\"\n",
    "marketplaceServiceURL = \"http://localhost:8081\"\n",
    "walletServiceURL = \"http://localhost:8082\"\n",
    "\n",
    "def main():\n",
    "    name = \"John Doe\"\n",
    "    email = \"johndoe@mail.com\"\n",
    "    userId = 101\n",
    "    productId = 104\n",
    "    walletAmount = 10000\n",
    "    add_money_and_check_detail(userId, name, email, productId, walletAmount)\n",
    "\n",
    "def create_user(userId, name, email):\n",
    "    new_user = {\"id\": userId, \"name\": name, \"email\": email}\n",
    "    response = requests.post(userServiceURL + \"/users\", json=new_user)\n",
    "    \n",
    "    if response.status_code != 201:\n",
    "        print(f\"[ERROR] Failed to create user: {response.status_code}, {response.text}\")\n",
    "    \n",
    "    return response\n",
    "\n",
    "def get_wallet(user_id):\n",
    "    response = requests.get(walletServiceURL + f\"/wallets/{user_id}\")\n",
    "    \n",
    "    if response.status_code != 200:\n",
    "        print(f\"[ERROR] Failed to fetch wallet: {response.status_code}, {response.text}\")\n",
    "    \n",
    "    return response\n",
    "\n",
    "def update_wallet(user_id, action, amount):\n",
    "    response = requests.put(walletServiceURL + f\"/wallets/{user_id}\", json={\"action\": action, \"amount\": amount})\n",
    "    \n",
    "    if response.status_code != 200:\n",
    "        print(f\"[ERROR] Failed to update wallet: {response.status_code}, {response.text}\")\n",
    "    \n",
    "    return response\n",
    "\n",
    "def get_product_details(product_id):\n",
    "    response = requests.get(marketplaceServiceURL + f\"/products/{product_id}\")\n",
    "    \n",
    "    if response.status_code != 200:\n",
    "        print(f\"[ERROR] Failed to fetch product details (ID: {product_id}): {response.status_code}, {response.text}\")\n",
    "        sys.exit()\n",
    "    \n",
    "    return response\n",
    "\n",
    "def delete_users():\n",
    "    response = requests.delete(userServiceURL + \"/users\")\n",
    "    \n",
    "    if response.status_code != 200:\n",
    "        print(f\"[WARNING] Failed to delete users: {response.status_code}, {response.text}\")\n",
    "\n",
    "def add_money_and_check_detail(userId, name, email, productId, walletAmount):\n",
    "    try:\n",
    "        print(\"[INFO] Deleting existing users...\")\n",
    "        delete_users()\n",
    "        \n",
    "        print(\"[INFO] Creating a new user...\")\n",
    "        new_user = create_user(userId, name, email)\n",
    "        new_user_json = new_user.json()\n",
    "\n",
    "        if 'id' not in new_user_json:\n",
    "            print(\"[ERROR] User creation response does not contain an ID.\")\n",
    "            return\n",
    "\n",
    "        new_userid = new_user_json['id']\n",
    "        print(f\"[INFO] New user created with ID: {new_userid}\")\n",
    "\n",
    "        print(\"[INFO] Adding money to wallet...\")\n",
    "        update_wallet(new_userid, \"credit\", walletAmount)\n",
    "        \n",
    "        print(\"[INFO] Fetching product details before ordering...\")\n",
    "        product_details_before_ordering = get_product_details(productId)\n",
    "        old_wallet_balance = get_wallet(new_userid).json().get('balance', None)\n",
    "\n",
    "        if old_wallet_balance is None:\n",
    "            print(\"[ERROR] Could not retrieve initial wallet balance.\")\n",
    "            return\n",
    "        \n",
    "        print(f\"[INFO] Wallet balance before order: {old_wallet_balance}\")\n",
    "        \n",
    "        new_order = {\n",
    "            \"user_id\": new_userid,\n",
    "            \"items\": [{\"product_id\": productId, \"quantity\": 2}],\n",
    "        }\n",
    "\n",
    "        print(\"[INFO] Placing order...\")\n",
    "        order_response = requests.post(marketplaceServiceURL + \"/orders\", json=new_order)\n",
    "\n",
    "        if order_response.status_code != 201:\n",
    "            print(f\"[ERROR] Order placement failed: {order_response.status_code}, {order_response.text}\")\n",
    "            return\n",
    "\n",
    "        print(\"[INFO] Fetching product details after ordering...\")\n",
    "        product_details_after_ordering = get_product_details(productId)\n",
    "        new_wallet_balance = get_wallet(new_userid).json().get('balance', None)\n",
    "\n",
    "        if new_wallet_balance is None:\n",
    "            print(\"[ERROR] Could not retrieve updated wallet balance.\")\n",
    "            return\n",
    "        \n",
    "        print(f\"[INFO] Wallet balance after order: {new_wallet_balance}\")\n",
    "\n",
    "        print(\"[INFO] Product details after ordering: \", product_details_after_ordering.json())\n",
    "\n",
    "        price_per_unit = product_details_after_ordering.json().get('price', None)\n",
    "\n",
    "        if price_per_unit is None:\n",
    "            print(\"[ERROR] Could not retrieve product price.\")\n",
    "            return\n",
    "        \n",
    "        total_expected_deduction = (price_per_unit * 2) * 0.9\n",
    "        print(f\"[INFO] Got response: {product_details_after_ordering.json()}\")\n",
    "        stock_difference = product_details_before_ordering.json().get('stock_quantity', 0) - product_details_after_ordering.json().get('stock_quantity', 0)\n",
    "\n",
    "        if (old_wallet_balance - new_wallet_balance == total_expected_deduction) and (stock_difference == 2):\n",
    "            print(\"[SUCCESS] Test Passed ✅\")\n",
    "        else:\n",
    "            print(f\"[ERROR] Test Failed ❌\")\n",
    "            print(f\"    Expected wallet deduction: {total_expected_deduction}, Actual: {old_wallet_balance - new_wallet_balance}\")\n",
    "            print(f\"    Expected stock reduction: 2, Actual: {stock_difference}\")\n",
    "\n",
    "    except Exception as e:\n",
    "        print(\"[FATAL] An unexpected error occurred:\")\n",
    "        traceback.print_exc()\n",
    "        print(\"[ERROR] Test Failed ❌\")\n",
    "\n",
    "if __name__ == \"__main__\":\n",
    "    main()\n"
   ]
  },
  {
   "cell_type": "code",
   "execution_count": 14,
   "metadata": {},
   "outputs": [
    {
     "name": "stdout",
     "output_type": "stream",
     "text": [
      "[INFO] Starting test case execution\n",
      "[DEBUG] delete_users response: 200, \n",
      "[DEBUG] create_user response: 201, {\"id\":101,\"name\":\"John Doe\",\"email\":\"johndoe@mail.com\",\"discount_availed\":false}\n",
      "[DEBUG] update_wallet response: 200, {\"user_id\":101,\"balance\":10000}\n",
      "[DEBUG] get_product_details response: 200, {\"id\":104,\"name\":\"Wireless Mouse\",\"description\":\"2.4 GHz wireless mouse\",\"price\":700,\"stock_quantity\":20}\n",
      "[DEBUG] get_wallet response: 200, {\"user_id\":101,\"balance\":10000}\n",
      "[DEBUG] Old wallet balance: 10000\n",
      "[DEBUG] place_order response: 201, {\"order_id\":1,\"user_id\":101,\"total_price\":1260,\"status\":\"PLACED\",\"items\":[{\"id\":1,\"product_id\":104,\"quantity\":2}]}\n",
      "[DEBUG] get_product_details response: 200, {\"id\":104,\"name\":\"Wireless Mouse\",\"description\":\"2.4 GHz wireless mouse\",\"price\":700,\"stock_quantity\":18}\n",
      "[DEBUG] product details after order: {'id': 104, 'name': 'Wireless Mouse', 'description': '2.4 GHz wireless mouse', 'price': 700, 'stock_quantity': 18}\n",
      "[DEBUG] delete_order response: 200, \n",
      "[DEBUG] get_product_details response: 200, {\"id\":104,\"name\":\"Wireless Mouse\",\"description\":\"2.4 GHz wireless mouse\",\"price\":700,\"stock_quantity\":20}\n",
      "[DEBUG] get_wallet response: 200, {\"user_id\":101,\"balance\":10000}\n",
      "[INFO] Test passed\n"
     ]
    }
   ],
   "source": [
    "import requests\n",
    "import sys\n",
    "\n",
    "userServiceURL = \"http://localhost:8080\"\n",
    "marketplaceServiceURL = \"http://localhost:8081\"\n",
    "walletServiceURL = \"http://localhost:8082\"\n",
    "\n",
    "def main():\n",
    "    name = \"John Doe\"\n",
    "    email = \"johndoe@mail.com\"\n",
    "    userId = 101\n",
    "    productId = 104\n",
    "    add_money_and_place_order(userId, name, email, productId)\n",
    "\n",
    "def create_user(userId, name, email):\n",
    "    new_user = {\"id\": userId, \"name\": name, \"email\": email}\n",
    "    response = requests.post(userServiceURL + \"/users\", json=new_user)\n",
    "    print(f\"[DEBUG] create_user response: {response.status_code}, {response.text}\")\n",
    "    return response\n",
    "\n",
    "def create_wallet(user_id):\n",
    "    response = requests.put(walletServiceURL + f\"/wallets/{user_id}\", json={\"action\": \"credit\", \"amount\": 0})\n",
    "    print(f\"[DEBUG] create_wallet response: {response.status_code}, {response.text}\")\n",
    "\n",
    "def get_wallet(user_id):\n",
    "    response = requests.get(walletServiceURL + f\"/wallets/{user_id}\")\n",
    "    print(f\"[DEBUG] get_wallet response: {response.status_code}, {response.text}\")\n",
    "    return response\n",
    "\n",
    "def update_wallet(user_id, action, amount):\n",
    "    response = requests.put(walletServiceURL + f\"/wallets/{user_id}\", json={\"action\": action, \"amount\": amount})\n",
    "    print(f\"[DEBUG] update_wallet response: {response.status_code}, {response.text}\")\n",
    "    return response\n",
    "\n",
    "def get_product_details(product_id):\n",
    "    response = requests.get(marketplaceServiceURL + f\"/products/{product_id}\")\n",
    "    print(f\"[DEBUG] get_product_details response: {response.status_code}, {response.text}\")\n",
    "    return response\n",
    "\n",
    "def delete_order(user_id):\n",
    "    response = requests.delete(marketplaceServiceURL + f\"/marketplace/users/{user_id}\")\n",
    "    print(f\"[DEBUG] delete_order response: {response.status_code}, {response.text}\")\n",
    "    if response.status_code != 200:\n",
    "        print(\"[ERROR] Wrong status code returned during delete order\")\n",
    "        sys.exit()\n",
    "    return response\n",
    "\n",
    "def delete_users():\n",
    "    response = requests.delete(userServiceURL + \"/users\")\n",
    "    print(f\"[DEBUG] delete_users response: {response.status_code}, {response.text}\")\n",
    "\n",
    "def add_money_and_place_order(userId, name, email, productId):\n",
    "    try:\n",
    "        print(\"[INFO] Starting test case execution\")\n",
    "        delete_users()\n",
    "        \n",
    "        new_user = create_user(userId, name, email)\n",
    "        if new_user.status_code != 201:\n",
    "            print(\"[ERROR] Failed to create user\")\n",
    "            return\n",
    "        \n",
    "        new_userid = new_user.json().get('id')\n",
    "        if not new_userid:\n",
    "            print(\"[ERROR] User ID not returned from create_user\")\n",
    "            return\n",
    "        \n",
    "        update_wallet(new_userid, \"credit\", 10000)\n",
    "        \n",
    "        product_details_before_ordering = get_product_details(productId)\n",
    "        if product_details_before_ordering.status_code != 200:\n",
    "            print(\"[ERROR] Failed to fetch product details\")\n",
    "            return\n",
    "        \n",
    "        old_wallet_balance = get_wallet(new_userid).json().get('balance', 0)\n",
    "        print(f\"[DEBUG] Old wallet balance: {old_wallet_balance}\")\n",
    "        \n",
    "        new_order = {\"user_id\": new_userid, \"items\": [{\"product_id\": productId, \"quantity\": 2}]}\n",
    "        order_response = requests.post(marketplaceServiceURL + \"/orders\", json=new_order)\n",
    "        print(f\"[DEBUG] place_order response: {order_response.status_code}, {order_response.text}\")\n",
    "        print(f\"[DEBUG] product details after order: {get_product_details(productId).json()}\")\n",
    "        \n",
    "        delete_order(new_userid)\n",
    "        \n",
    "        product_details_after_ordering = get_product_details(productId)\n",
    "        new_wallet_balance = get_wallet(new_userid).json().get('balance', 0)\n",
    "        \n",
    "        if (product_details_after_ordering.json().get('stock_quantity') == product_details_before_ordering.json().get('stock_quantity') and\n",
    "                old_wallet_balance == new_wallet_balance):\n",
    "            print(\"[INFO] Test passed\")\n",
    "        else:\n",
    "            print(\"[ERROR] Test failed: Stock quantity or wallet balance mismatch\")\n",
    "            print(f\"[DEBUG] Stock before: {product_details_before_ordering.json().get('stock_quantity')}, after: {product_details_after_ordering.json().get('stock_quantity')}\")\n",
    "            print(f\"[DEBUG] Wallet balance before: {old_wallet_balance}, after: {new_wallet_balance}\")\n",
    "    except Exception as e:\n",
    "        print(f\"[ERROR] Exception occurred: {e}\")\n",
    "\n",
    "if __name__ == \"__main__\":\n",
    "    main()\n"
   ]
  },
  {
   "cell_type": "code",
   "execution_count": 19,
   "metadata": {},
   "outputs": [
    {
     "name": "stdout",
     "output_type": "stream",
     "text": [
      "[DEBUG] get_product_details response: 200, {\"id\":104,\"name\":\"Wireless Mouse\",\"description\":\"2.4 GHz wireless mouse\",\"price\":700,\"stock_quantity\":20}\n",
      "<Response [200]>\n"
     ]
    }
   ],
   "source": [
    "print(get_product_details(104))"
   ]
  },
  {
   "cell_type": "code",
   "execution_count": 20,
   "metadata": {},
   "outputs": [
    {
     "name": "stdout",
     "output_type": "stream",
     "text": [
      "[INFO] Starting test case execution\n",
      "[DEBUG] delete_users response: 200, \n",
      "[DEBUG] create_user response: 201, {\"id\":101,\"name\":\"John Doe\",\"email\":\"johndoe\",\"discount_availed\":false}\n",
      "[DEBUG] update_wallet response: 200, {\"user_id\":101,\"balance\":40000}\n",
      "[DEBUG] get_product_details response: 200, {\"id\":104,\"name\":\"Wireless Mouse\",\"description\":\"2.4 GHz wireless mouse\",\"price\":700,\"stock_quantity\":20}\n",
      "[DEBUG] get_wallet response: 200, {\"user_id\":101,\"balance\":40000}\n",
      "[DEBUG] Old wallet balance: 40000\n",
      "[DEBUG] place_order response: 201, {\"order_id\":4,\"user_id\":101,\"total_price\":1260,\"status\":\"PLACED\",\"items\":[{\"id\":4,\"product_id\":104,\"quantity\":2}]}\n",
      "[DEBUG] get_product_details response: 200, {\"id\":104,\"name\":\"Wireless Mouse\",\"description\":\"2.4 GHz wireless mouse\",\"price\":700,\"stock_quantity\":18}\n",
      "[DEBUG] product details after order: {'id': 104, 'name': 'Wireless Mouse', 'description': '2.4 GHz wireless mouse', 'price': 700, 'stock_quantity': 18}\n",
      "[DEBUG] delete_order response: 200, \n",
      "[DEBUG] get_product_details response: 200, {\"id\":104,\"name\":\"Wireless Mouse\",\"description\":\"2.4 GHz wireless mouse\",\"price\":700,\"stock_quantity\":20}\n",
      "[DEBUG] get_wallet response: 200, {\"user_id\":101,\"balance\":40000}\n",
      "[INFO] Test passed\n"
     ]
    }
   ],
   "source": [
    "add_money_and_place_order(101, \"John Doe\", \"johndoe\", 104)"
   ]
  },
  {
   "cell_type": "code",
   "execution_count": 21,
   "metadata": {},
   "outputs": [],
   "source": [
    "def buy_product(user_id, product_id, quantity):\n",
    "    response = requests.post(marketplaceServiceURL + \"/orders\", json={\"user_id\": user_id, \"items\": [{\"product_id\": product_id, \"quantity\": quantity}]})\n",
    "    return response"
   ]
  },
  {
   "cell_type": "code",
   "execution_count": 22,
   "metadata": {},
   "outputs": [
    {
     "name": "stdout",
     "output_type": "stream",
     "text": [
      "{'order_id': 5, 'user_id': 101, 'total_price': 1400, 'status': 'PLACED', 'items': [{'id': 5, 'product_id': 104, 'quantity': 2}]}\n"
     ]
    }
   ],
   "source": [
    "print(buy_product(101, 104, 2).json())"
   ]
  },
  {
   "cell_type": "code",
   "execution_count": 30,
   "metadata": {},
   "outputs": [
    {
     "name": "stdout",
     "output_type": "stream",
     "text": [
      "[DEBUG] get_product_details response: 200, {\"id\":104,\"name\":\"Wireless Mouse\",\"description\":\"2.4 GHz wireless mouse\",\"price\":700,\"stock_quantity\":20}\n"
     ]
    },
    {
     "data": {
      "text/plain": [
       "{'id': 104,\n",
       " 'name': 'Wireless Mouse',\n",
       " 'description': '2.4 GHz wireless mouse',\n",
       " 'price': 700,\n",
       " 'stock_quantity': 20}"
      ]
     },
     "execution_count": 30,
     "metadata": {},
     "output_type": "execute_result"
    }
   ],
   "source": [
    "get_product_details(104).json()"
   ]
  },
  {
   "cell_type": "code",
   "execution_count": 32,
   "metadata": {},
   "outputs": [],
   "source": [
    "def add_user(name, email):\n",
    "    response = requests.post(userServiceURL + \"/users\", json={\"id\": 101, \"name\": name, \"email\": email})\n",
    "    return response"
   ]
  },
  {
   "cell_type": "code",
   "execution_count": 33,
   "metadata": {},
   "outputs": [
    {
     "data": {
      "text/plain": [
       "{'id': 101, 'name': 'John Doe', 'email': 'email', 'discount_availed': False}"
      ]
     },
     "execution_count": 33,
     "metadata": {},
     "output_type": "execute_result"
    }
   ],
   "source": [
    "add_user(\"John Doe\", \"email\").json()"
   ]
  },
  {
   "cell_type": "code",
   "execution_count": 34,
   "metadata": {},
   "outputs": [],
   "source": [
    "def add_money(user_id, amount):\n",
    "    response = requests.put(walletServiceURL + f\"/wallets/{user_id}\", json={\"action\": \"credit\", \"amount\": amount})\n",
    "    return response"
   ]
  },
  {
   "cell_type": "code",
   "execution_count": 35,
   "metadata": {},
   "outputs": [
    {
     "data": {
      "text/plain": [
       "{'user_id': 101, 'balance': 10000}"
      ]
     },
     "execution_count": 35,
     "metadata": {},
     "output_type": "execute_result"
    }
   ],
   "source": [
    "add_money(101, 10000).json()"
   ]
  },
  {
   "cell_type": "code",
   "execution_count": 28,
   "metadata": {},
   "outputs": [],
   "source": [
    "def get_all_orders():\n",
    "    response = requests.get(marketplaceServiceURL + \"/orders\")\n",
    "    return response"
   ]
  },
  {
   "cell_type": "code",
   "execution_count": 36,
   "metadata": {},
   "outputs": [
    {
     "data": {
      "text/plain": [
       "[]"
      ]
     },
     "execution_count": 36,
     "metadata": {},
     "output_type": "execute_result"
    }
   ],
   "source": [
    "get_all_orders().json()"
   ]
  },
  {
   "cell_type": "code",
   "execution_count": 37,
   "metadata": {},
   "outputs": [],
   "source": [
    "def place_order(user_id, product_id, quantity):\n",
    "    response = requests.post(marketplaceServiceURL + \"/orders\", json={\"user_id\": user_id, \"items\": [{\"product_id\": product_id, \"quantity\": quantity}]})\n",
    "    return response"
   ]
  },
  {
   "cell_type": "code",
   "execution_count": 71,
   "metadata": {},
   "outputs": [
    {
     "data": {
      "text/plain": [
       "{'order_id': 5,\n",
       " 'user_id': 101,\n",
       " 'total_price': 1400,\n",
       " 'status': 'PLACED',\n",
       " 'items': [{'id': 5, 'product_id': 104, 'quantity': 2}]}"
      ]
     },
     "execution_count": 71,
     "metadata": {},
     "output_type": "execute_result"
    }
   ],
   "source": [
    "place_order(101, 104, 2).json()"
   ]
  },
  {
   "cell_type": "code",
   "execution_count": 72,
   "metadata": {},
   "outputs": [
    {
     "data": {
      "text/plain": [
       "[{'order_id': 1,\n",
       "  'user_id': 101,\n",
       "  'total_price': 1260,\n",
       "  'status': 'CANCELLED',\n",
       "  'items': [{'id': 1, 'product_id': 104, 'quantity': 2}]},\n",
       " {'order_id': 2,\n",
       "  'user_id': 101,\n",
       "  'total_price': 1260,\n",
       "  'status': 'CANCELLED',\n",
       "  'items': [{'id': 2, 'product_id': 104, 'quantity': 2}]},\n",
       " {'order_id': 3,\n",
       "  'user_id': 101,\n",
       "  'total_price': 1260,\n",
       "  'status': 'CANCELLED',\n",
       "  'items': [{'id': 3, 'product_id': 104, 'quantity': 2}]},\n",
       " {'order_id': 4,\n",
       "  'user_id': 101,\n",
       "  'total_price': 1260,\n",
       "  'status': 'CANCELLED',\n",
       "  'items': [{'id': 4, 'product_id': 104, 'quantity': 2}]},\n",
       " {'order_id': 5,\n",
       "  'user_id': 101,\n",
       "  'total_price': 1400,\n",
       "  'status': 'PLACED',\n",
       "  'items': [{'id': 5, 'product_id': 104, 'quantity': 2}]}]"
      ]
     },
     "execution_count": 72,
     "metadata": {},
     "output_type": "execute_result"
    }
   ],
   "source": [
    "get_all_orders().json()"
   ]
  },
  {
   "cell_type": "code",
   "execution_count": 61,
   "metadata": {},
   "outputs": [
    {
     "name": "stdout",
     "output_type": "stream",
     "text": [
      "[DEBUG] delete_order response: 200, \n"
     ]
    },
    {
     "data": {
      "text/plain": [
       "<Response [200]>"
      ]
     },
     "execution_count": 61,
     "metadata": {},
     "output_type": "execute_result"
    }
   ],
   "source": [
    "delete_order(101)"
   ]
  },
  {
   "cell_type": "code",
   "execution_count": 73,
   "metadata": {},
   "outputs": [
    {
     "data": {
      "text/plain": [
       "{'id': 104,\n",
       " 'name': 'Wireless Mouse',\n",
       " 'description': '2.4 GHz wireless mouse',\n",
       " 'price': 700,\n",
       " 'stock_quantity': 18}"
      ]
     },
     "execution_count": 73,
     "metadata": {},
     "output_type": "execute_result"
    }
   ],
   "source": [
    "get_product_details(104).json()"
   ]
  },
  {
   "cell_type": "code",
   "execution_count": 74,
   "metadata": {},
   "outputs": [
    {
     "name": "stdout",
     "output_type": "stream",
     "text": [
      "{'id': 104, 'name': 'Wireless Mouse', 'description': '2.4 GHz wireless mouse', 'price': 700, 'stock_quantity': 20}\n",
      "{'id': 104, 'name': 'Wireless Mouse', 'description': '2.4 GHz wireless mouse', 'price': 700, 'stock_quantity': 18}\n",
      "Test failed\n"
     ]
    }
   ],
   "source": [
    "import requests\n",
    "import sys\n",
    "\n",
    "userServiceURL = \"http://localhost:8080\"\n",
    "marketplaceServiceURL = \"http://localhost:8081\"\n",
    "walletServiceURL = \"http://localhost:8082\"\n",
    "\n",
    "def main():\n",
    "    name = \"John Doe\"\n",
    "    email = \"johndoe@mail.com\"\n",
    "    userId = 101\n",
    "    productId = 104\n",
    "    add_money_and_place_order(userId,name, email, productId)\n",
    "\n",
    "def create_user(userId,name, email):\n",
    "    new_user = {\"id\":userId,\"name\": name, \"email\": email}\n",
    "    response = requests.post(userServiceURL + \"/users\", json=new_user)\n",
    "    return response\n",
    "\n",
    "def create_wallet(user_id):\n",
    "    requests.put(walletServiceURL+f\"/wallets/{user_id}\", json={\"action\":\"credit\", \"amount\":0})\n",
    "\n",
    "def get_wallet(user_id):\n",
    "    response = requests.get(walletServiceURL + f\"/wallets/{user_id}\")\n",
    "    return response\n",
    "\n",
    "def update_wallet(user_id, action, amount):\n",
    "    response = requests.put(walletServiceURL + f\"/wallets/{user_id}\", json={\"action\":action, \"amount\":amount})\n",
    "    return response\n",
    "\n",
    "def get_product_details(product_id):\n",
    "    response = requests.get(marketplaceServiceURL + f\"/products/{product_id}\")\n",
    "    \n",
    "    return response   \n",
    "\n",
    "\n",
    "def delete_order(user_id):\n",
    "    response = requests.delete(marketplaceServiceURL+f\"/marketplace/users/{user_id}\")\n",
    "    if response.status_code != 200:\n",
    "        print(\"Wrong status code return during delete order\")\n",
    "        sys.exit()\n",
    "    return response\n",
    "\n",
    "def delete_users():\n",
    "    requests.delete(userServiceURL+f\"/users\")    \n",
    "\n",
    "def add_money_and_place_order(userId,name,email,productId):\n",
    "    #try:\n",
    "        delete_users()\n",
    "        new_user = create_user(userId,name,email) #create_user\n",
    "        new_userid = new_user.json()['id']\n",
    "        update_wallet(new_userid,\"credit\",10000) #update_wallet\n",
    "        product_details_before_ordering = get_product_details(productId) #get_product_details\n",
    "        old_wallet_balance = get_wallet(new_userid).json()['balance'] #get_wallet\n",
    "        new_order = {\"user_id\": new_userid,\"items\": [{\"product_id\": productId, \"quantity\": 2}]}\n",
    "        requests.post(marketplaceServiceURL + \"/orders\", json=new_order)\n",
    "        delete_order(new_userid) #delete_order\n",
    "        product_details_after_ordering = get_product_details(productId)\n",
    "        # checking if the refund and stock quantity is correct after an undelivered order is cancelled\n",
    "        print(product_details_after_ordering.json())\n",
    "        print(product_details_before_ordering.json())\n",
    "        if(product_details_after_ordering.json()['stock_quantity'] == product_details_before_ordering.json()['stock_quantity'] and old_wallet_balance == get_wallet(new_userid).json()['balance']):\n",
    "            print(\"Test passed\")\n",
    "        else:\n",
    "            print(\"Test failed\")\n",
    "    \n",
    "\n",
    "if __name__ == \"__main__\":\n",
    "    main()"
   ]
  },
  {
   "cell_type": "code",
   "execution_count": 67,
   "metadata": {},
   "outputs": [],
   "source": [
    "import tester2 as t2\n"
   ]
  },
  {
   "cell_type": "code",
   "execution_count": 76,
   "metadata": {},
   "outputs": [
    {
     "name": "stdout",
     "output_type": "stream",
     "text": [
      "Current Stock: 10\n",
      "Test (Maximum Stock Order): Passed\n"
     ]
    }
   ],
   "source": [
    "t2.test_maximum_stock_order()"
   ]
  },
  {
   "cell_type": "code",
   "execution_count": 43,
   "metadata": {},
   "outputs": [],
   "source": [
    "import requests"
   ]
  },
  {
   "cell_type": "code",
   "execution_count": 51,
   "metadata": {},
   "outputs": [
    {
     "data": {
      "text/plain": [
       "[{'order_id': 1,\n",
       "  'user_id': 304,\n",
       "  'total_price': 495000,\n",
       "  'status': 'CANCELLED',\n",
       "  'items': [{'id': 1, 'product_id': 101, 'quantity': 10}]}]"
      ]
     },
     "execution_count": 51,
     "metadata": {},
     "output_type": "execute_result"
    }
   ],
   "source": [
    "requests.get(\"http://localhost:8081/orders\").json()"
   ]
  },
  {
   "cell_type": "code",
   "execution_count": 72,
   "metadata": {},
   "outputs": [
    {
     "data": {
      "text/plain": [
       "<Response [200]>"
      ]
     },
     "execution_count": 72,
     "metadata": {},
     "output_type": "execute_result"
    }
   ],
   "source": [
    "requests.delete(\"http://localhost:8081/marketplace\")"
   ]
  },
  {
   "cell_type": "code",
   "execution_count": 73,
   "metadata": {},
   "outputs": [
    {
     "data": {
      "text/plain": [
       "{'id': 101,\n",
       " 'name': 'Laptop Pro 1',\n",
       " 'description': 'Powerful laptop',\n",
       " 'price': 55000,\n",
       " 'stock_quantity': 10}"
      ]
     },
     "execution_count": 73,
     "metadata": {},
     "output_type": "execute_result"
    }
   ],
   "source": [
    "t2.get_product_details(101).json()"
   ]
  },
  {
   "cell_type": "code",
   "execution_count": 71,
   "metadata": {},
   "outputs": [
    {
     "data": {
      "text/plain": [
       "<Response [500]>"
      ]
     },
     "execution_count": 71,
     "metadata": {},
     "output_type": "execute_result"
    }
   ],
   "source": [
    "requests.delete(\"http://localhost:8080/users\")"
   ]
  },
  {
   "cell_type": "markdown",
   "metadata": {},
   "source": [
    "# Start HERE"
   ]
  },
  {
   "cell_type": "code",
   "execution_count": 87,
   "metadata": {},
   "outputs": [],
   "source": [
    "from Tests import primary_functions as pf"
   ]
  },
  {
   "cell_type": "code",
   "execution_count": 88,
   "metadata": {},
   "outputs": [],
   "source": [
    "resp = pf.create_user(101, \"John Doe\", \"jd@gm\")"
   ]
  },
  {
   "cell_type": "code",
   "execution_count": 89,
   "metadata": {},
   "outputs": [
    {
     "data": {
      "text/plain": [
       "'{\"id\":101,\"name\":\"John Doe\",\"email\":\"jd@gm\",\"discount_availed\":false}'"
      ]
     },
     "execution_count": 89,
     "metadata": {},
     "output_type": "execute_result"
    }
   ],
   "source": [
    "resp.text"
   ]
  },
  {
   "cell_type": "code",
   "execution_count": 90,
   "metadata": {},
   "outputs": [],
   "source": [
    "resp2 = pf.update_wallet(101, \"credit\", 1000000)"
   ]
  },
  {
   "cell_type": "code",
   "execution_count": 91,
   "metadata": {},
   "outputs": [
    {
     "data": {
      "text/plain": [
       "'{\"user_id\":101,\"balance\":1000000}'"
      ]
     },
     "execution_count": 91,
     "metadata": {},
     "output_type": "execute_result"
    }
   ],
   "source": [
    "resp2.text"
   ]
  },
  {
   "cell_type": "code",
   "execution_count": 92,
   "metadata": {},
   "outputs": [
    {
     "data": {
      "text/plain": [
       "'Insufficient funds'"
      ]
     },
     "execution_count": 92,
     "metadata": {},
     "output_type": "execute_result"
    }
   ],
   "source": [
    "pf.update_wallet(101, \"debit\", 10000000).text"
   ]
  },
  {
   "cell_type": "code",
   "execution_count": 93,
   "metadata": {},
   "outputs": [
    {
     "data": {
      "text/plain": [
       "'{\"user_id\":101,\"balance\":1000000}'"
      ]
     },
     "execution_count": 93,
     "metadata": {},
     "output_type": "execute_result"
    }
   ],
   "source": [
    "pf.get_wallet(101).text"
   ]
  },
  {
   "cell_type": "code",
   "execution_count": 94,
   "metadata": {},
   "outputs": [],
   "source": [
    "prods = pf.get_product_details(101)"
   ]
  },
  {
   "cell_type": "code",
   "execution_count": 95,
   "metadata": {},
   "outputs": [],
   "source": [
    "p101 = prods.json()[\"price\"]"
   ]
  },
  {
   "cell_type": "code",
   "execution_count": 96,
   "metadata": {},
   "outputs": [],
   "source": [
    "p102 = pf.get_product_details(102).json()[\"price\"]"
   ]
  },
  {
   "cell_type": "code",
   "execution_count": 97,
   "metadata": {},
   "outputs": [],
   "source": [
    "items = [{\"product_id\": 101, \"quantity\": 3}, {\"product_id\": 102, \"quantity\": 2}]"
   ]
  },
  {
   "cell_type": "code",
   "execution_count": 98,
   "metadata": {},
   "outputs": [],
   "source": [
    "orderReceipt = pf.create_order(101, items)"
   ]
  },
  {
   "cell_type": "code",
   "execution_count": 99,
   "metadata": {},
   "outputs": [],
   "source": [
    "totalCost = orderReceipt.json()[\"total_price\"]"
   ]
  },
  {
   "cell_type": "code",
   "execution_count": 100,
   "metadata": {},
   "outputs": [
    {
     "data": {
      "text/plain": [
       "True"
      ]
     },
     "execution_count": 100,
     "metadata": {},
     "output_type": "execute_result"
    }
   ],
   "source": [
    "totalCost == (3*p101 + 2*p102)*0.9"
   ]
  },
  {
   "cell_type": "code",
   "execution_count": 101,
   "metadata": {},
   "outputs": [],
   "source": [
    "currentWalletOrder1 = pf.get_wallet(101).json()"
   ]
  },
  {
   "cell_type": "code",
   "execution_count": 102,
   "metadata": {},
   "outputs": [
    {
     "data": {
      "text/plain": [
       "{'user_id': 101, 'balance': 770500}"
      ]
     },
     "execution_count": 102,
     "metadata": {},
     "output_type": "execute_result"
    }
   ],
   "source": [
    "currentWalletOrder1"
   ]
  },
  {
   "cell_type": "code",
   "execution_count": 103,
   "metadata": {},
   "outputs": [
    {
     "data": {
      "text/plain": [
       "229500"
      ]
     },
     "execution_count": 103,
     "metadata": {},
     "output_type": "execute_result"
    }
   ],
   "source": [
    "totalCost"
   ]
  },
  {
   "cell_type": "code",
   "execution_count": 104,
   "metadata": {},
   "outputs": [
    {
     "data": {
      "text/plain": [
       "True"
      ]
     },
     "execution_count": 104,
     "metadata": {},
     "output_type": "execute_result"
    }
   ],
   "source": [
    "currentWalletOrder1[\"balance\"] == 1000000 - totalCost"
   ]
  },
  {
   "cell_type": "code",
   "execution_count": 105,
   "metadata": {},
   "outputs": [],
   "source": [
    "itmes2 = [{\"product_id\": 103, \"quantity\": 2}]"
   ]
  },
  {
   "cell_type": "code",
   "execution_count": 106,
   "metadata": {},
   "outputs": [],
   "source": [
    "p103 = pf.get_product_details(103).json()[\"price\"]"
   ]
  },
  {
   "cell_type": "code",
   "execution_count": 107,
   "metadata": {},
   "outputs": [
    {
     "data": {
      "text/plain": [
       "3000"
      ]
     },
     "execution_count": 107,
     "metadata": {},
     "output_type": "execute_result"
    }
   ],
   "source": [
    "p103"
   ]
  },
  {
   "cell_type": "code",
   "execution_count": 108,
   "metadata": {},
   "outputs": [],
   "source": [
    "orderReceipt2 = pf.create_order(101, itmes2)"
   ]
  },
  {
   "cell_type": "code",
   "execution_count": 109,
   "metadata": {},
   "outputs": [],
   "source": [
    "totalCost2 = orderReceipt2.json()[\"total_price\"]"
   ]
  },
  {
   "cell_type": "code",
   "execution_count": 110,
   "metadata": {},
   "outputs": [
    {
     "data": {
      "text/plain": [
       "True"
      ]
     },
     "execution_count": 110,
     "metadata": {},
     "output_type": "execute_result"
    }
   ],
   "source": [
    "totalCost2 == 2*p103"
   ]
  },
  {
   "cell_type": "code",
   "execution_count": 111,
   "metadata": {},
   "outputs": [],
   "source": [
    "all_orders = pf.get_orders(101)"
   ]
  },
  {
   "cell_type": "code",
   "execution_count": 112,
   "metadata": {},
   "outputs": [
    {
     "data": {
      "text/plain": [
       "[{'order_id': 1,\n",
       "  'user_id': 101,\n",
       "  'total_price': 229500,\n",
       "  'status': 'PLACED',\n",
       "  'items': [{'id': 1, 'product_id': 101, 'quantity': 3},\n",
       "   {'id': 2, 'product_id': 102, 'quantity': 2}]},\n",
       " {'order_id': 2,\n",
       "  'user_id': 101,\n",
       "  'total_price': 6000,\n",
       "  'status': 'PLACED',\n",
       "  'items': [{'id': 3, 'product_id': 103, 'quantity': 2}]}]"
      ]
     },
     "execution_count": 112,
     "metadata": {},
     "output_type": "execute_result"
    }
   ],
   "source": [
    "all_orders.json()"
   ]
  },
  {
   "cell_type": "code",
   "execution_count": 113,
   "metadata": {},
   "outputs": [],
   "source": [
    "current_wallet = pf.get_wallet(101).json()"
   ]
  },
  {
   "cell_type": "code",
   "execution_count": 114,
   "metadata": {},
   "outputs": [
    {
     "data": {
      "text/plain": [
       "{'user_id': 101, 'balance': 764500}"
      ]
     },
     "execution_count": 114,
     "metadata": {},
     "output_type": "execute_result"
    }
   ],
   "source": [
    "current_wallet"
   ]
  },
  {
   "cell_type": "code",
   "execution_count": 115,
   "metadata": {},
   "outputs": [
    {
     "data": {
      "text/plain": [
       "True"
      ]
     },
     "execution_count": 115,
     "metadata": {},
     "output_type": "execute_result"
    }
   ],
   "source": [
    "current_wallet[\"balance\"] == 1000000 - totalCost - totalCost2"
   ]
  },
  {
   "cell_type": "code",
   "execution_count": 116,
   "metadata": {},
   "outputs": [],
   "source": [
    "import Tests.primary_functions as pf"
   ]
  },
  {
   "cell_type": "code",
   "execution_count": 117,
   "metadata": {},
   "outputs": [],
   "source": [
    "delOrder = pf.return_order_byuser(101)"
   ]
  },
  {
   "cell_type": "code",
   "execution_count": 118,
   "metadata": {},
   "outputs": [
    {
     "data": {
      "text/plain": [
       "<Response [200]>"
      ]
     },
     "execution_count": 118,
     "metadata": {},
     "output_type": "execute_result"
    }
   ],
   "source": [
    "delOrder"
   ]
  },
  {
   "cell_type": "code",
   "execution_count": 119,
   "metadata": {},
   "outputs": [
    {
     "data": {
      "text/plain": [
       "{'user_id': 101, 'balance': 1000000}"
      ]
     },
     "execution_count": 119,
     "metadata": {},
     "output_type": "execute_result"
    }
   ],
   "source": [
    "pf.get_wallet(101).json()"
   ]
  },
  {
   "cell_type": "code",
   "execution_count": 120,
   "metadata": {},
   "outputs": [
    {
     "data": {
      "text/plain": [
       "[{'order_id': 1,\n",
       "  'user_id': 101,\n",
       "  'total_price': 229500,\n",
       "  'status': 'CANCELLED',\n",
       "  'items': [{'id': 1, 'product_id': 101, 'quantity': 3},\n",
       "   {'id': 2, 'product_id': 102, 'quantity': 2}]},\n",
       " {'order_id': 2,\n",
       "  'user_id': 101,\n",
       "  'total_price': 6000,\n",
       "  'status': 'CANCELLED',\n",
       "  'items': [{'id': 3, 'product_id': 103, 'quantity': 2}]}]"
      ]
     },
     "execution_count": 120,
     "metadata": {},
     "output_type": "execute_result"
    }
   ],
   "source": [
    "pf.get_orders(101).json()"
   ]
  },
  {
   "cell_type": "code",
   "execution_count": 121,
   "metadata": {},
   "outputs": [
    {
     "data": {
      "text/plain": [
       "{'order_id': 1,\n",
       " 'user_id': 101,\n",
       " 'total_price': 229500,\n",
       " 'status': 'CANCELLED',\n",
       " 'items': [{'id': 1, 'product_id': 101, 'quantity': 3},\n",
       "  {'id': 2, 'product_id': 102, 'quantity': 2}]}"
      ]
     },
     "execution_count": 121,
     "metadata": {},
     "output_type": "execute_result"
    }
   ],
   "source": [
    "import requests\n",
    "requests.get(pf.marketplaceServiceURL + \"/orders/1\").json()"
   ]
  },
  {
   "cell_type": "code",
   "execution_count": 122,
   "metadata": {},
   "outputs": [],
   "source": [
    "resp = requests.delete(pf.userServiceURL + \"/users/101\")"
   ]
  },
  {
   "cell_type": "code",
   "execution_count": 123,
   "metadata": {},
   "outputs": [
    {
     "data": {
      "text/plain": [
       "''"
      ]
     },
     "execution_count": 123,
     "metadata": {},
     "output_type": "execute_result"
    }
   ],
   "source": [
    "resp.text"
   ]
  },
  {
   "cell_type": "code",
   "execution_count": 124,
   "metadata": {},
   "outputs": [
    {
     "data": {
      "text/plain": [
       "<Response [404]>"
      ]
     },
     "execution_count": 124,
     "metadata": {},
     "output_type": "execute_result"
    }
   ],
   "source": [
    "pf.get_wallet(101)"
   ]
  },
  {
   "cell_type": "code",
   "execution_count": 125,
   "metadata": {},
   "outputs": [
    {
     "data": {
      "text/plain": [
       "<Response [404]>"
      ]
     },
     "execution_count": 125,
     "metadata": {},
     "output_type": "execute_result"
    }
   ],
   "source": [
    "pf.get_user(101)"
   ]
  }
 ],
 "metadata": {
  "kernelspec": {
   "display_name": "base",
   "language": "python",
   "name": "python3"
  },
  "language_info": {
   "codemirror_mode": {
    "name": "ipython",
    "version": 3
   },
   "file_extension": ".py",
   "mimetype": "text/x-python",
   "name": "python",
   "nbconvert_exporter": "python",
   "pygments_lexer": "ipython3",
   "version": "3.12.2"
  }
 },
 "nbformat": 4,
 "nbformat_minor": 2
}
